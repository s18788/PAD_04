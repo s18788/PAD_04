{
  "nbformat": 4,
  "nbformat_minor": 0,
  "metadata": {
    "colab": {
      "provenance": []
    },
    "kernelspec": {
      "name": "python3",
      "display_name": "Python 3"
    },
    "language_info": {
      "name": "python"
    }
  },
  "cells": [
    {
      "cell_type": "markdown",
      "source": [
        "Zadanie 1 (5 pkt)\n",
        "\n",
        "\n",
        "Wgraj zawartość pliku orders.csv do ramki danych.\n",
        "Przyjrzyj się danym, wykorzystując poznane metody (describe, info, head) zanalizuj dane.\n",
        "\n",
        "Następnie:\n",
        "\n",
        "\n",
        "\n",
        "1. Zamień order_date na format daty. Upewnij się, że w rezultacie data będzie w formacie: rok-miesiąc-dzień;\n",
        "2. Sprawdź ile i jakie unikalne wartości znajdują się w kolumnie T-shirt category;\n",
        "3. Wyczyść kolumnę tshirt_category normalizując nazwy produktów. Upewnij się, że dla każdej kategorii funkcjonuje jedna nazwa, np. zamiast white i wh jest tylko jedna wersja white. Skorzystaj z klasy string i metody apply;\n",
        "4. Rozdziel kolumnę tshirt category na 3 kolumny: tshirt_type, która będzie mówiła o tym czy jest to koszulka, bluza czy coś innego, tshirt_size, która będzie informowała o rozmiarze koszulki, i tshirt_colour, która będzie informowała o kolorze. Skorzystaj z metody apply.\n",
        "5. Znajdź zamówienia złożone między 31 grudnia 2014 a 2 sierpnia 2016.\n"
      ],
      "metadata": {
        "id": "6s5atoa1swg0"
      }
    },
    {
      "cell_type": "code",
      "execution_count": null,
      "metadata": {
        "id": "Ktake9Iqsl1O"
      },
      "outputs": [],
      "source": [
        "import pandas as pd\n",
        "\n",
        "df = pd.read_csv('orders.csv',delimiter=',')\n",
        "df['order_date'] = pd.to_datetime(df['order_date'], yearfirst=True)\n",
        "\n",
        "uniqueTshirtValues = df['tshirt_category'].unique()\n",
        "uniqueTshirtValuesLenght = uniqueTshirtValues.size\n",
        "\n",
        "print(uniqueTshirtValues)\n",
        "print(f'Count of unique values: {uniqueTshirtValuesLenght}')\n",
        "\n",
        "#df['tshirt_category'] = df['tshirt_category'].apply(lambda x: pd.Series(str(x).replace()))"
      ]
    },
    {
      "cell_type": "code",
      "source": [
        "import pandas as pd\n",
        "\n",
        "df = pd.read_csv('orders.csv',delimiter=',')\n",
        "df[['tshirt_colour', 'tshirt_type', 'tshirt_size']] = df['tshirt_category'].apply(lambda x: pd.Series(str(x).split(\" \")))\n",
        "df"
      ],
      "metadata": {
        "id": "2GvVP9OkJ45J"
      },
      "execution_count": null,
      "outputs": []
    },
    {
      "cell_type": "code",
      "source": [
        "import pandas as pd\n",
        "\n",
        "df = pd.read_csv('orders.csv',delimiter=',')\n",
        "df['order_date'] = pd.to_datetime(df['order_date'], yearfirst=True)\n",
        "\n",
        "df[df['order_date'].isin(pd.date_range('2014-12-31', '2016-08-02'))]\n"
      ],
      "metadata": {
        "id": "gK6Kb-MQEme7"
      },
      "execution_count": null,
      "outputs": []
    },
    {
      "cell_type": "markdown",
      "source": [
        "Zadanie 2 (4 pkt)\n",
        "\n",
        "\n",
        "Wgraj plik customers.csv do ramki danych. \n",
        "\n",
        "Następnie:\n",
        "1. Wypisz kolumny;\n",
        "2. Porównaj rozmiar ramki z rozmiarem ramki w zadaniu 1;\n",
        "3. Zmień nazwę kolumny customerID  na customer_id upewniając się, że dane zmiana zostanie zapisana w pamięci dzięki jednemu z argumentów metody do zmiany nazwy kolumny;\n",
        "4. Połącz ramkę orders z ramką customers po kolumnie customer_id. Z której metody skorzystasz? Zostaw odpowiedź w komentarzu do zadania w kodzie (np. blok komentarzem ‘’’ ‘’’).\n"
      ],
      "metadata": {
        "id": "g0QB8rtHtGhT"
      }
    },
    {
      "cell_type": "code",
      "source": [
        "import pandas as pd\n",
        "\n",
        "orders = pd.read_csv('orders.csv',delimiter=',')\n",
        "customers = pd.read_csv('customers.csv',delimiter=',')\n",
        "\n",
        "if(orders.size >= customers.size):\n",
        "    print('Orders DF is equal or bigger')\n",
        "else:\n",
        "    print('Customers DF is bigger')\n",
        "\n",
        "customers.rename(columns = {'customerID':'customer_id'},inplace=True)\n",
        "customers\n"
      ],
      "metadata": {
        "id": "_rfPFhLGtRm-"
      },
      "execution_count": null,
      "outputs": []
    },
    {
      "cell_type": "markdown",
      "source": [
        "Merge ramek => funkcja merge od pandas\n",
        "\n",
        "merge_df = pd.merge(customers, orders, how='inner', on='customer_id')"
      ],
      "metadata": {
        "id": "dcIWR-7FIJH8"
      }
    },
    {
      "cell_type": "markdown",
      "source": [
        "Zadanie 3 (1 pkt)\n",
        "\n",
        "Nową ramkę (połączenie orders i customers) zapisz do pliku csv, ale zapisz bez kolumny z indeksem.\n"
      ],
      "metadata": {
        "id": "bCKqMqJQtR8s"
      }
    },
    {
      "cell_type": "code",
      "source": [
        "merge_df = pd.merge(customers, orders, how='inner', on='customer_id')\n",
        "merge_df.to_csv(\"merged.csv\",index=False)"
      ],
      "metadata": {
        "id": "J2gA9RVStSTa"
      },
      "execution_count": 55,
      "outputs": []
    }
  ]
}